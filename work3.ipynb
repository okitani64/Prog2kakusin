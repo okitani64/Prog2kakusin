{
  "nbformat": 4,
  "nbformat_minor": 0,
  "metadata": {
    "colab": {
      "provenance": [],
      "authorship_tag": "ABX9TyOK9d6a8oy8XsUFL8pSC6Tl",
      "include_colab_link": true
    },
    "kernelspec": {
      "name": "python3",
      "display_name": "Python 3"
    },
    "language_info": {
      "name": "python"
    }
  },
  "cells": [
    {
      "cell_type": "markdown",
      "metadata": {
        "id": "view-in-github",
        "colab_type": "text"
      },
      "source": [
        "<a href=\"https://colab.research.google.com/github/okitani64/Prog2kakusin/blob/main/work3.ipynb\" target=\"_parent\"><img src=\"https://colab.research.google.com/assets/colab-badge.svg\" alt=\"Open In Colab\"/></a>"
      ]
    },
    {
      "cell_type": "code",
      "execution_count": 151,
      "metadata": {
        "colab": {
          "base_uri": "https://localhost:8080/",
          "height": 617
        },
        "id": "M88ANaUMzz9r",
        "outputId": "e698f4dd-eb63-4474-ef4a-54bc9ffe0cc9"
      },
      "outputs": [
        {
          "output_type": "display_data",
          "data": {
            "text/plain": [
              "<PIL.Image.Image image mode=RGB size=300x300>"
            ],
            "image/png": "[encoded data removed]"
          },
          "metadata": {}
        },
        {
          "output_type": "display_data",
          "data": {
            "text/plain": [
              "<PIL.Image.Image image mode=RGB size=300x300>"
            ],
            "image/png": "[encoded data removed]"
          },
          "metadata": {}
        }
      ],
      "source": [
        "import numpy as np\n",
        "import sys\n",
        "import cv2\n",
        "from google.colab.patches import cv2_imshow\n",
        "\n",
        "#アンパンマン\n",
        "\n",
        "img = np.zeros ( (300,300) , np.uint8 )\n",
        "img.fill(255)\n",
        "cv2.imwrite('annpannmann.jpg' , img )\n",
        "img = cv2.imread('annpannmann.jpg')\n",
        "if img is None :\n",
        "  sys.exit('Error:No such file or directory')\n",
        "\n",
        "#輪郭\n",
        "cv2.circle(img, (150,150), 130, color=(0,0,0), thickness=4, lineType=cv2.LINE_8, shift=0)\n",
        "#鼻\n",
        "cv2.circle(img, (150,150), 40, color=(0,0,0), thickness=4, lineType=cv2.LINE_8, shift=0)\n",
        "cv2.ellipse(img,(70, 150),(40, 40),angle=180,startAngle=90, endAngle=270,color=(0, 0, 0),thickness=4)\n",
        "cv2.ellipse(img,(230, 150),(40, 40),angle=180,startAngle=-90, endAngle=90,color=(0, 0, 0),thickness=4)\n",
        "cv2.rectangle(img, (145,145), (155,155), color=(0,0,0), thickness=1)\n",
        "cv2.rectangle(img, (70,145), (80,155), color=(0,0,0), thickness=1)\n",
        "cv2.rectangle(img, (220,145), (230,155), color=(0,0,0), thickness=1)\n",
        "#目\n",
        "cv2.ellipse(img,(110,85),(10, 20),angle=0,startAngle=0,endAngle=360,color=(0, 0, 0),thickness=-1)\n",
        "cv2.ellipse(img,(190,85),(10, 20),angle=0,startAngle=0,endAngle=360,color=(0, 0, 0),thickness=-1)\n",
        "cv2.ellipse(img,(110,75),(25, 30),angle=0,startAngle=180,endAngle=360,color=(0, 0, 0),thickness=4)\n",
        "cv2.ellipse(img,(190,75),(25, 30),angle=0,startAngle=180,endAngle=360,color=(0, 0, 0),thickness=4)\n",
        "#口\n",
        "cv2.line(img, (90, 190), (210, 190), color=(0, 0, 0), thickness=4)\n",
        "cv2.ellipse(img,(150,190),(55, 50),angle=0,startAngle=0,endAngle=180,color=(0, 0, 0),thickness=4)\n",
        "cv2_imshow(img)\n",
        "\n",
        "#風景\n",
        "img = np.zeros ( (300,300) , np.uint8 )\n",
        "img.fill(255)\n",
        "cv2.imwrite('doraemonn.jpg' , img )\n",
        "img = cv2.imread('doraemonn.jpg')\n",
        "if img is None :\n",
        "  sys.exit('Error:No such file or directory')\n",
        "\n",
        "cv2.line(img, (0, 290), (300, 290), color=(0, 0, 0), thickness=4)\n",
        "cv2.rectangle(img, (150,200), (270,290), color=(0,0,0), thickness=4)\n",
        "cv2.line(img, (150, 200), (210, 150), color=(0, 0, 0), thickness=4)\n",
        "cv2.line(img, (210, 150), (270,200), color=(0, 0, 0), thickness=4)\n",
        "cv2.rectangle(img, (220,240), (250,290), color=(0,0,0), thickness=4)\n",
        "cv2.circle(img, (240,263), 5, color=(0,0,0), thickness=2, lineType=cv2.LINE_8, shift=0)\n",
        "cv2.rectangle(img, (160,210), (210,250), color=(0,0,0), thickness=4)\n",
        "cv2.line(img, (160, 230), (210, 230), color=(0, 0, 0), thickness=4)\n",
        "cv2.line(img, (185, 210), (185, 250), color=(0, 0, 0), thickness=4)\n",
        "\n",
        "cv2.circle(img, (80,80), 40, color=(0,0,0), thickness=4, lineType=cv2.LINE_8, shift=0)\n",
        "cv2.line(img, (100, 130), (110, 150), color=(0, 0, 0), thickness=4)\n",
        "cv2.line(img, (70, 130), (65, 150), color=(0, 0, 0), thickness=4)\n",
        "cv2.line(img, (130, 100), (150, 115), color=(0, 0, 0), thickness=4)\n",
        "cv2.line(img, (135, 70), (160, 65), color=(0, 0, 0), thickness=4)\n",
        "cv2_imshow(img)\n"
      ]
    }
  ]
}